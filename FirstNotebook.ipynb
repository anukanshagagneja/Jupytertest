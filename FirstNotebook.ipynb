{
 "cells": [
  {
   "cell_type": "code",
   "execution_count": 1,
   "id": "db8a1841-6f30-4227-8922-ec5da7400738",
   "metadata": {},
   "outputs": [
    {
     "name": "stdout",
     "output_type": "stream",
     "text": [
      "Hello world\n"
     ]
    }
   ],
   "source": [
    "print(\"Hello world\")"
   ]
  },
  {
   "cell_type": "code",
   "execution_count": 2,
   "id": "1f1ff25c-b9df-4436-b598-a115fb886fc4",
   "metadata": {},
   "outputs": [
    {
     "name": "stdout",
     "output_type": "stream",
     "text": [
      "Goodbye, world.\n"
     ]
    }
   ],
   "source": [
    "print(\"Goodbye, world.\")"
   ]
  },
  {
   "cell_type": "markdown",
   "id": "1ab6f38a-145a-4c79-b3e5-d0e5bd3e5a98",
   "metadata": {},
   "source": [
    "# My First Notebook\n",
    "\n",
    "## Basic commands\n",
    "\n",
    "`print(\"Hello world\")`\n",
    "\n",
    "* m\n",
    "* y"
   ]
  },
  {
   "cell_type": "code",
   "execution_count": 3,
   "id": "44434402-5672-48e7-88de-9268efcb66c6",
   "metadata": {},
   "outputs": [
    {
     "name": "stdin",
     "output_type": "stream",
     "text": [
      "What is the weather today? hot\n"
     ]
    }
   ],
   "source": [
    "weather = input(\"What is the weather today?\")"
   ]
  },
  {
   "cell_type": "code",
   "execution_count": 4,
   "id": "7cd9a5a8-1cb6-4a53-b2d9-776851bf10a9",
   "metadata": {},
   "outputs": [
    {
     "name": "stdout",
     "output_type": "stream",
     "text": [
      "The weather today is hot\n"
     ]
    }
   ],
   "source": [
    "print(\"The weather today is\", weather)"
   ]
  },
  {
   "cell_type": "code",
   "execution_count": null,
   "id": "6ca94bd7-3969-498c-b435-d817dcc517ba",
   "metadata": {},
   "outputs": [],
   "source": []
  }
 ],
 "metadata": {
  "kernelspec": {
   "display_name": "Python 3 (ipykernel)",
   "language": "python",
   "name": "python3"
  },
  "language_info": {
   "codemirror_mode": {
    "name": "ipython",
    "version": 3
   },
   "file_extension": ".py",
   "mimetype": "text/x-python",
   "name": "python",
   "nbconvert_exporter": "python",
   "pygments_lexer": "ipython3",
   "version": "3.11.9"
  }
 },
 "nbformat": 4,
 "nbformat_minor": 5
}
